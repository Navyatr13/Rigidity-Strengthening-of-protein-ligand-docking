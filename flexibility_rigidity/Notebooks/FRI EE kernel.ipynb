{
 "cells": [
  {
   "cell_type": "code",
   "execution_count": 23,
   "metadata": {},
   "outputs": [],
   "source": [
    "# Read the train and test data\n",
    "import pandas as pd\n",
    "import numpy as np\n",
    "Y_train = pd.read_csv(\"v2007_refine_list.csv\") \n",
    "Y_test = pd.read_csv(\"v2007_core_list.csv\")\n",
    "X_train = pd.read_csv(\"new_2kerneltrain_2.5-1-12_2.5-5.5-21.csv\") \n",
    "X_test = pd.read_csv(\"new_2kerneltest_2.5-1-12_2.5-5.5-21.csv\")\n",
    "#EE Kernel"
   ]
  },
  {
   "cell_type": "code",
   "execution_count": 24,
   "metadata": {},
   "outputs": [
    {
     "data": {
      "text/html": [
       "<div>\n",
       "<style scoped>\n",
       "    .dataframe tbody tr th:only-of-type {\n",
       "        vertical-align: middle;\n",
       "    }\n",
       "\n",
       "    .dataframe tbody tr th {\n",
       "        vertical-align: top;\n",
       "    }\n",
       "\n",
       "    .dataframe thead th {\n",
       "        text-align: right;\n",
       "    }\n",
       "</style>\n",
       "<table border=\"1\" class=\"dataframe\">\n",
       "  <thead>\n",
       "    <tr style=\"text-align: right;\">\n",
       "      <th></th>\n",
       "      <th>id</th>\n",
       "      <th>num</th>\n",
       "    </tr>\n",
       "  </thead>\n",
       "  <tbody>\n",
       "    <tr>\n",
       "      <th>0</th>\n",
       "      <td>2hdq</td>\n",
       "      <td>1.40</td>\n",
       "    </tr>\n",
       "    <tr>\n",
       "      <th>1</th>\n",
       "      <td>1utp</td>\n",
       "      <td>1.44</td>\n",
       "    </tr>\n",
       "    <tr>\n",
       "      <th>2</th>\n",
       "      <td>1u2y</td>\n",
       "      <td>1.74</td>\n",
       "    </tr>\n",
       "    <tr>\n",
       "      <th>3</th>\n",
       "      <td>1bra</td>\n",
       "      <td>1.82</td>\n",
       "    </tr>\n",
       "    <tr>\n",
       "      <th>4</th>\n",
       "      <td>1y1m</td>\n",
       "      <td>1.82</td>\n",
       "    </tr>\n",
       "    <tr>\n",
       "      <th>...</th>\n",
       "      <td>...</td>\n",
       "      <td>...</td>\n",
       "    </tr>\n",
       "    <tr>\n",
       "      <th>190</th>\n",
       "      <td>1y6q</td>\n",
       "      <td>11.70</td>\n",
       "    </tr>\n",
       "    <tr>\n",
       "      <th>191</th>\n",
       "      <td>1sl3</td>\n",
       "      <td>11.85</td>\n",
       "    </tr>\n",
       "    <tr>\n",
       "      <th>192</th>\n",
       "      <td>2i0d</td>\n",
       "      <td>12.10</td>\n",
       "    </tr>\n",
       "    <tr>\n",
       "      <th>193</th>\n",
       "      <td>2f01</td>\n",
       "      <td>13.00</td>\n",
       "    </tr>\n",
       "    <tr>\n",
       "      <th>194</th>\n",
       "      <td>7cpa</td>\n",
       "      <td>13.96</td>\n",
       "    </tr>\n",
       "  </tbody>\n",
       "</table>\n",
       "<p>195 rows × 2 columns</p>\n",
       "</div>"
      ],
      "text/plain": [
       "       id    num\n",
       "0    2hdq   1.40\n",
       "1    1utp   1.44\n",
       "2    1u2y   1.74\n",
       "3    1bra   1.82\n",
       "4    1y1m   1.82\n",
       "..    ...    ...\n",
       "190  1y6q  11.70\n",
       "191  1sl3  11.85\n",
       "192  2i0d  12.10\n",
       "193  2f01  13.00\n",
       "194  7cpa  13.96\n",
       "\n",
       "[195 rows x 2 columns]"
      ]
     },
     "execution_count": 24,
     "metadata": {},
     "output_type": "execute_result"
    }
   ],
   "source": [
    "Y_test"
   ]
  },
  {
   "cell_type": "code",
   "execution_count": 25,
   "metadata": {},
   "outputs": [
    {
     "name": "stdout",
     "output_type": "stream",
     "text": [
      "(195, 72) (195, 2)\n"
     ]
    }
   ],
   "source": [
    "print(X_test.shape, Y_test.shape)"
   ]
  },
  {
   "cell_type": "code",
   "execution_count": 26,
   "metadata": {},
   "outputs": [],
   "source": [
    "# convert data into arrays\n",
    "X_train = np.array(X_train)\n",
    "X_test = np.array(X_test)\n",
    "Y_train = np.array(Y_train)\n",
    "Y_train = Y_train[:,1]\n",
    "Y_train = np.array(Y_train)\n",
    "Y_test = np.array(Y_test)\n",
    "Y_test = Y_test[:,1]\n",
    "Y_test = np.array(Y_test)"
   ]
  },
  {
   "cell_type": "code",
   "execution_count": 27,
   "metadata": {},
   "outputs": [
    {
     "name": "stdout",
     "output_type": "stream",
     "text": [
      "(195, 72) (195,)\n"
     ]
    }
   ],
   "source": [
    "print(X_test.shape, Y_test.shape)"
   ]
  },
  {
   "cell_type": "code",
   "execution_count": 28,
   "metadata": {},
   "outputs": [
    {
     "name": "stdout",
     "output_type": "stream",
     "text": [
      "(1105, 72) (1105,)\n"
     ]
    }
   ],
   "source": [
    "print(X_train.shape, Y_train.shape)"
   ]
  },
  {
   "cell_type": "code",
   "execution_count": 32,
   "metadata": {},
   "outputs": [],
   "source": [
    "# use Random Forest algorithm to train the model\n",
    "%matplotlib notebook\n",
    "from sklearn import  metrics\n",
    "from sklearn.metrics import classification_report, confusion_matrix\n",
    "from sklearn.ensemble import RandomForestRegressor\n",
    "#from sklearn.linear_model import RandomForestRegressor\n",
    "from matplotlib.legend_handler import HandlerLine2D\n",
    "from sklearn.metrics import roc_curve, auc\n",
    "\n",
    "#Create Random Forest classifer object\n",
    "clf = RandomForestRegressor(n_estimators = 550)\n",
    "# Train Random Forest Classifer\n",
    "clf = clf.fit(X_train,Y_train)\n",
    "y_pred_RF = clf.predict(X_test)"
   ]
  },
  {
   "cell_type": "code",
   "execution_count": 33,
   "metadata": {},
   "outputs": [
    {
     "data": {
      "text/plain": [
       "1.4804713563641219"
      ]
     },
     "execution_count": 33,
     "metadata": {},
     "output_type": "execute_result"
    }
   ],
   "source": [
    "from sklearn.metrics import mean_squared_error\n",
    "mean_squared_error(Y_test, y_pred_RF, squared=False)"
   ]
  },
  {
   "cell_type": "code",
   "execution_count": 34,
   "metadata": {},
   "outputs": [
    {
     "data": {
      "text/plain": [
       "(0.8110100258860304, 8.205869091043337e-47)"
      ]
     },
     "execution_count": 34,
     "metadata": {},
     "output_type": "execute_result"
    }
   ],
   "source": [
    "from scipy import stats\n",
    "stats.pearsonr(Y_test,y_pred_RF)"
   ]
  },
  {
   "cell_type": "code",
   "execution_count": 22,
   "metadata": {},
   "outputs": [
    {
     "data": {
      "text/plain": [
       "array([ 2.95438182,  4.00327273,  4.63205455,  4.34867273,  4.37863636,\n",
       "        3.93663636,  5.19889091,  3.26270909,  4.4748    ,  4.2966    ,\n",
       "        4.51027273,  3.97607273,  4.87545455,  5.16656364,  6.00809091,\n",
       "        3.68630909,  4.17547273,  4.71007273,  4.6688    ,  5.04896364,\n",
       "        5.12003636,  4.53518182,  5.47414545,  4.17629091,  5.79334545,\n",
       "        4.67625455,  4.34978182,  4.75405455,  5.06956364,  4.51350909,\n",
       "        6.31734545,  6.45510909,  6.11307273,  4.85807273,  4.89867273,\n",
       "        4.19565455,  6.21534545,  4.50823636,  6.13285455,  5.27863636,\n",
       "        4.30110909,  4.59341818,  5.93270909,  5.43970909,  8.22030909,\n",
       "        5.42070909,  6.6526    ,  5.58578182,  4.33287273,  3.92258182,\n",
       "        5.66736364,  4.91609091,  5.85694545,  5.89052727,  6.10141818,\n",
       "        5.47792727,  4.70754545,  5.57236364,  6.07176364,  5.80407273,\n",
       "        5.6578    ,  7.5202    ,  6.02743636,  5.80481818,  7.05994545,\n",
       "        5.61916364,  6.19087273,  6.83921818,  5.48965455,  3.59814545,\n",
       "        6.15963636,  7.36421818,  4.72303636,  6.15130909,  6.84498182,\n",
       "        5.6134    ,  6.52554545,  6.59278182,  8.1628    ,  5.45594545,\n",
       "        6.63450909,  5.53098182,  5.89510909,  5.43892727,  6.14203636,\n",
       "        6.77094545,  5.46116364,  5.335     ,  7.1374    ,  6.90109091,\n",
       "        5.71323636,  7.67036364,  7.06598182,  7.43434545,  6.4478    ,\n",
       "        6.01750909,  5.56492727,  5.9566    ,  6.38632727,  4.93669091,\n",
       "        6.54210909,  6.04223636,  6.26721818,  6.03116364,  6.91974545,\n",
       "        6.14041818,  7.78069091,  6.65414545,  6.83832727,  6.63390909,\n",
       "        6.47309091,  7.64110909,  6.25283636,  5.50194545,  6.86750909,\n",
       "        6.39121818,  6.11996364,  5.11227273,  5.56225455,  7.22198182,\n",
       "        7.43016364,  8.40612727,  5.56021818,  5.96567273,  6.29374545,\n",
       "        6.24954545,  7.45632727,  7.21938182,  7.31476364,  7.31614545,\n",
       "        6.04249091,  7.31589091,  7.79156364,  8.02107273,  5.64147273,\n",
       "        6.328     ,  8.64629091,  5.3738    ,  7.22814545,  6.79594545,\n",
       "        6.2928    ,  7.01332727,  7.47514545,  5.65907273,  5.30416364,\n",
       "        6.71409091,  6.78036364,  8.07585455,  6.63783636,  7.18407273,\n",
       "        6.90330909,  7.35105455,  7.38443636,  9.03083636,  8.01203636,\n",
       "        8.66249091,  8.45621818,  7.61952727,  7.71178182,  7.76489091,\n",
       "        6.36556364,  8.1588    ,  8.23761818,  6.30258182,  7.09654545,\n",
       "        8.03258182,  8.24310909,  8.72334545,  6.92098182,  8.33192727,\n",
       "        7.05090909,  7.0746    ,  7.56149091,  8.03158182,  7.91092727,\n",
       "        8.45967273,  8.9544    ,  8.43232727,  8.04961818,  8.25787273,\n",
       "        6.25065455,  8.04658182,  7.27194545,  7.99178182,  8.37674545,\n",
       "        6.93665455,  9.04018182,  8.49263636,  8.38550909,  7.50445455,\n",
       "        7.71789091, 10.04621818, 10.78676364,  8.96663636, 10.31312727])"
      ]
     },
     "execution_count": 22,
     "metadata": {},
     "output_type": "execute_result"
    }
   ],
   "source": [
    "y_pred_RF"
   ]
  },
  {
   "cell_type": "code",
   "execution_count": null,
   "metadata": {},
   "outputs": [],
   "source": []
  }
 ],
 "metadata": {
  "kernelspec": {
   "display_name": "Python 3",
   "language": "python",
   "name": "python3"
  },
  "language_info": {
   "codemirror_mode": {
    "name": "ipython",
    "version": 3
   },
   "file_extension": ".py",
   "mimetype": "text/x-python",
   "name": "python",
   "nbconvert_exporter": "python",
   "pygments_lexer": "ipython3",
   "version": "3.8.5"
  }
 },
 "nbformat": 4,
 "nbformat_minor": 4
}
